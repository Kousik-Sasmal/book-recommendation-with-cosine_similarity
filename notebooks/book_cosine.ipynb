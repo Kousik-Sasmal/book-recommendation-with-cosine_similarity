{
 "cells": [
  {
   "cell_type": "code",
   "execution_count": 1,
   "id": "c51c49a3-3766-4a2b-9b37-e57120b710d0",
   "metadata": {},
   "outputs": [],
   "source": [
    "import numpy as np\n",
    "import pandas as pd"
   ]
  },
  {
   "cell_type": "code",
   "execution_count": 2,
   "id": "53b30d5f-7929-4d26-9faf-c97675719c4c",
   "metadata": {},
   "outputs": [
    {
     "data": {
      "text/html": [
       "<div>\n",
       "<style scoped>\n",
       "    .dataframe tbody tr th:only-of-type {\n",
       "        vertical-align: middle;\n",
       "    }\n",
       "\n",
       "    .dataframe tbody tr th {\n",
       "        vertical-align: top;\n",
       "    }\n",
       "\n",
       "    .dataframe thead th {\n",
       "        text-align: right;\n",
       "    }\n",
       "</style>\n",
       "<table border=\"1\" class=\"dataframe\">\n",
       "  <thead>\n",
       "    <tr style=\"text-align: right;\">\n",
       "      <th></th>\n",
       "      <th>user_id</th>\n",
       "      <th>ISBN</th>\n",
       "      <th>rating</th>\n",
       "      <th>title</th>\n",
       "      <th>author</th>\n",
       "      <th>year</th>\n",
       "      <th>publisher</th>\n",
       "      <th>Image-URL-M</th>\n",
       "      <th>num_ratings</th>\n",
       "    </tr>\n",
       "  </thead>\n",
       "  <tbody>\n",
       "    <tr>\n",
       "      <th>0</th>\n",
       "      <td>277427</td>\n",
       "      <td>002542730X</td>\n",
       "      <td>10</td>\n",
       "      <td>Politically Correct Bedtime Stories: Modern Ta...</td>\n",
       "      <td>James Finn Garner</td>\n",
       "      <td>1994</td>\n",
       "      <td>John Wiley &amp;amp; Sons Inc</td>\n",
       "      <td>http://images.amazon.com/images/P/002542730X.0...</td>\n",
       "      <td>82</td>\n",
       "    </tr>\n",
       "    <tr>\n",
       "      <th>1</th>\n",
       "      <td>3363</td>\n",
       "      <td>002542730X</td>\n",
       "      <td>0</td>\n",
       "      <td>Politically Correct Bedtime Stories: Modern Ta...</td>\n",
       "      <td>James Finn Garner</td>\n",
       "      <td>1994</td>\n",
       "      <td>John Wiley &amp;amp; Sons Inc</td>\n",
       "      <td>http://images.amazon.com/images/P/002542730X.0...</td>\n",
       "      <td>82</td>\n",
       "    </tr>\n",
       "    <tr>\n",
       "      <th>2</th>\n",
       "      <td>11676</td>\n",
       "      <td>002542730X</td>\n",
       "      <td>6</td>\n",
       "      <td>Politically Correct Bedtime Stories: Modern Ta...</td>\n",
       "      <td>James Finn Garner</td>\n",
       "      <td>1994</td>\n",
       "      <td>John Wiley &amp;amp; Sons Inc</td>\n",
       "      <td>http://images.amazon.com/images/P/002542730X.0...</td>\n",
       "      <td>82</td>\n",
       "    </tr>\n",
       "    <tr>\n",
       "      <th>3</th>\n",
       "      <td>12538</td>\n",
       "      <td>002542730X</td>\n",
       "      <td>10</td>\n",
       "      <td>Politically Correct Bedtime Stories: Modern Ta...</td>\n",
       "      <td>James Finn Garner</td>\n",
       "      <td>1994</td>\n",
       "      <td>John Wiley &amp;amp; Sons Inc</td>\n",
       "      <td>http://images.amazon.com/images/P/002542730X.0...</td>\n",
       "      <td>82</td>\n",
       "    </tr>\n",
       "    <tr>\n",
       "      <th>4</th>\n",
       "      <td>13552</td>\n",
       "      <td>002542730X</td>\n",
       "      <td>0</td>\n",
       "      <td>Politically Correct Bedtime Stories: Modern Ta...</td>\n",
       "      <td>James Finn Garner</td>\n",
       "      <td>1994</td>\n",
       "      <td>John Wiley &amp;amp; Sons Inc</td>\n",
       "      <td>http://images.amazon.com/images/P/002542730X.0...</td>\n",
       "      <td>82</td>\n",
       "    </tr>\n",
       "    <tr>\n",
       "      <th>...</th>\n",
       "      <td>...</td>\n",
       "      <td>...</td>\n",
       "      <td>...</td>\n",
       "      <td>...</td>\n",
       "      <td>...</td>\n",
       "      <td>...</td>\n",
       "      <td>...</td>\n",
       "      <td>...</td>\n",
       "      <td>...</td>\n",
       "    </tr>\n",
       "    <tr>\n",
       "      <th>59845</th>\n",
       "      <td>255489</td>\n",
       "      <td>0553579983</td>\n",
       "      <td>7</td>\n",
       "      <td>And Then You Die</td>\n",
       "      <td>Iris Johansen</td>\n",
       "      <td>1998</td>\n",
       "      <td>Bantam</td>\n",
       "      <td>http://images.amazon.com/images/P/0553579983.0...</td>\n",
       "      <td>50</td>\n",
       "    </tr>\n",
       "    <tr>\n",
       "      <th>59846</th>\n",
       "      <td>256407</td>\n",
       "      <td>0553579983</td>\n",
       "      <td>0</td>\n",
       "      <td>And Then You Die</td>\n",
       "      <td>Iris Johansen</td>\n",
       "      <td>1998</td>\n",
       "      <td>Bantam</td>\n",
       "      <td>http://images.amazon.com/images/P/0553579983.0...</td>\n",
       "      <td>50</td>\n",
       "    </tr>\n",
       "    <tr>\n",
       "      <th>59847</th>\n",
       "      <td>257204</td>\n",
       "      <td>0553579983</td>\n",
       "      <td>0</td>\n",
       "      <td>And Then You Die</td>\n",
       "      <td>Iris Johansen</td>\n",
       "      <td>1998</td>\n",
       "      <td>Bantam</td>\n",
       "      <td>http://images.amazon.com/images/P/0553579983.0...</td>\n",
       "      <td>50</td>\n",
       "    </tr>\n",
       "    <tr>\n",
       "      <th>59848</th>\n",
       "      <td>261829</td>\n",
       "      <td>0553579983</td>\n",
       "      <td>0</td>\n",
       "      <td>And Then You Die</td>\n",
       "      <td>Iris Johansen</td>\n",
       "      <td>1998</td>\n",
       "      <td>Bantam</td>\n",
       "      <td>http://images.amazon.com/images/P/0553579983.0...</td>\n",
       "      <td>50</td>\n",
       "    </tr>\n",
       "    <tr>\n",
       "      <th>59849</th>\n",
       "      <td>273979</td>\n",
       "      <td>0553579983</td>\n",
       "      <td>0</td>\n",
       "      <td>And Then You Die</td>\n",
       "      <td>Iris Johansen</td>\n",
       "      <td>1998</td>\n",
       "      <td>Bantam</td>\n",
       "      <td>http://images.amazon.com/images/P/0553579983.0...</td>\n",
       "      <td>50</td>\n",
       "    </tr>\n",
       "  </tbody>\n",
       "</table>\n",
       "<p>59850 rows × 9 columns</p>\n",
       "</div>"
      ],
      "text/plain": [
       "       user_id        ISBN  rating  \\\n",
       "0       277427  002542730X      10   \n",
       "1         3363  002542730X       0   \n",
       "2        11676  002542730X       6   \n",
       "3        12538  002542730X      10   \n",
       "4        13552  002542730X       0   \n",
       "...        ...         ...     ...   \n",
       "59845   255489  0553579983       7   \n",
       "59846   256407  0553579983       0   \n",
       "59847   257204  0553579983       0   \n",
       "59848   261829  0553579983       0   \n",
       "59849   273979  0553579983       0   \n",
       "\n",
       "                                                   title             author  \\\n",
       "0      Politically Correct Bedtime Stories: Modern Ta...  James Finn Garner   \n",
       "1      Politically Correct Bedtime Stories: Modern Ta...  James Finn Garner   \n",
       "2      Politically Correct Bedtime Stories: Modern Ta...  James Finn Garner   \n",
       "3      Politically Correct Bedtime Stories: Modern Ta...  James Finn Garner   \n",
       "4      Politically Correct Bedtime Stories: Modern Ta...  James Finn Garner   \n",
       "...                                                  ...                ...   \n",
       "59845                                   And Then You Die      Iris Johansen   \n",
       "59846                                   And Then You Die      Iris Johansen   \n",
       "59847                                   And Then You Die      Iris Johansen   \n",
       "59848                                   And Then You Die      Iris Johansen   \n",
       "59849                                   And Then You Die      Iris Johansen   \n",
       "\n",
       "       year                  publisher  \\\n",
       "0      1994  John Wiley &amp; Sons Inc   \n",
       "1      1994  John Wiley &amp; Sons Inc   \n",
       "2      1994  John Wiley &amp; Sons Inc   \n",
       "3      1994  John Wiley &amp; Sons Inc   \n",
       "4      1994  John Wiley &amp; Sons Inc   \n",
       "...     ...                        ...   \n",
       "59845  1998                     Bantam   \n",
       "59846  1998                     Bantam   \n",
       "59847  1998                     Bantam   \n",
       "59848  1998                     Bantam   \n",
       "59849  1998                     Bantam   \n",
       "\n",
       "                                             Image-URL-M  num_ratings  \n",
       "0      http://images.amazon.com/images/P/002542730X.0...           82  \n",
       "1      http://images.amazon.com/images/P/002542730X.0...           82  \n",
       "2      http://images.amazon.com/images/P/002542730X.0...           82  \n",
       "3      http://images.amazon.com/images/P/002542730X.0...           82  \n",
       "4      http://images.amazon.com/images/P/002542730X.0...           82  \n",
       "...                                                  ...          ...  \n",
       "59845  http://images.amazon.com/images/P/0553579983.0...           50  \n",
       "59846  http://images.amazon.com/images/P/0553579983.0...           50  \n",
       "59847  http://images.amazon.com/images/P/0553579983.0...           50  \n",
       "59848  http://images.amazon.com/images/P/0553579983.0...           50  \n",
       "59849  http://images.amazon.com/images/P/0553579983.0...           50  \n",
       "\n",
       "[59850 rows x 9 columns]"
      ]
     },
     "execution_count": 2,
     "metadata": {},
     "output_type": "execute_result"
    }
   ],
   "source": [
    "final_ratings = pd.read_csv('../artifacts/final_ratings.csv')\n",
    "final_ratings"
   ]
  },
  {
   "cell_type": "code",
   "execution_count": 3,
   "id": "0849173b-a555-4348-923b-17d58f530a64",
   "metadata": {},
   "outputs": [
    {
     "data": {
      "text/html": [
       "<div>\n",
       "<style scoped>\n",
       "    .dataframe tbody tr th:only-of-type {\n",
       "        vertical-align: middle;\n",
       "    }\n",
       "\n",
       "    .dataframe tbody tr th {\n",
       "        vertical-align: top;\n",
       "    }\n",
       "\n",
       "    .dataframe thead th {\n",
       "        text-align: right;\n",
       "    }\n",
       "</style>\n",
       "<table border=\"1\" class=\"dataframe\">\n",
       "  <thead>\n",
       "    <tr style=\"text-align: right;\">\n",
       "      <th></th>\n",
       "      <th>ISBN</th>\n",
       "      <th>num_ratings</th>\n",
       "      <th>avg_rating</th>\n",
       "      <th>title</th>\n",
       "      <th>author</th>\n",
       "      <th>year</th>\n",
       "      <th>publisher</th>\n",
       "      <th>Image-URL-M</th>\n",
       "    </tr>\n",
       "  </thead>\n",
       "  <tbody>\n",
       "    <tr>\n",
       "      <th>0</th>\n",
       "      <td>0316666343</td>\n",
       "      <td>1295</td>\n",
       "      <td>4.468726</td>\n",
       "      <td>The Lovely Bones: A Novel</td>\n",
       "      <td>Alice Sebold</td>\n",
       "      <td>2002</td>\n",
       "      <td>Little, Brown</td>\n",
       "      <td>http://images.amazon.com/images/P/0316666343.0...</td>\n",
       "    </tr>\n",
       "    <tr>\n",
       "      <th>1</th>\n",
       "      <td>0385504209</td>\n",
       "      <td>883</td>\n",
       "      <td>4.652322</td>\n",
       "      <td>The Da Vinci Code</td>\n",
       "      <td>Dan Brown</td>\n",
       "      <td>2003</td>\n",
       "      <td>Doubleday</td>\n",
       "      <td>http://images.amazon.com/images/P/0385504209.0...</td>\n",
       "    </tr>\n",
       "    <tr>\n",
       "      <th>2</th>\n",
       "      <td>0312195516</td>\n",
       "      <td>723</td>\n",
       "      <td>4.334716</td>\n",
       "      <td>The Red Tent (Bestselling Backlist)</td>\n",
       "      <td>Anita Diamant</td>\n",
       "      <td>1998</td>\n",
       "      <td>Picador USA</td>\n",
       "      <td>http://images.amazon.com/images/P/0312195516.0...</td>\n",
       "    </tr>\n",
       "    <tr>\n",
       "      <th>3</th>\n",
       "      <td>0142001740</td>\n",
       "      <td>615</td>\n",
       "      <td>4.219512</td>\n",
       "      <td>The Secret Life of Bees</td>\n",
       "      <td>Sue Monk Kidd</td>\n",
       "      <td>2003</td>\n",
       "      <td>Penguin Books</td>\n",
       "      <td>http://images.amazon.com/images/P/0142001740.0...</td>\n",
       "    </tr>\n",
       "    <tr>\n",
       "      <th>4</th>\n",
       "      <td>0446672211</td>\n",
       "      <td>585</td>\n",
       "      <td>4.105983</td>\n",
       "      <td>Where the Heart Is (Oprah's Book Club (Paperba...</td>\n",
       "      <td>Billie Letts</td>\n",
       "      <td>1998</td>\n",
       "      <td>Warner Books</td>\n",
       "      <td>http://images.amazon.com/images/P/0446672211.0...</td>\n",
       "    </tr>\n",
       "    <tr>\n",
       "      <th>...</th>\n",
       "      <td>...</td>\n",
       "      <td>...</td>\n",
       "      <td>...</td>\n",
       "      <td>...</td>\n",
       "      <td>...</td>\n",
       "      <td>...</td>\n",
       "      <td>...</td>\n",
       "      <td>...</td>\n",
       "    </tr>\n",
       "    <tr>\n",
       "      <th>519</th>\n",
       "      <td>0836217241</td>\n",
       "      <td>31</td>\n",
       "      <td>4.806452</td>\n",
       "      <td>The Far Side Gallery 4</td>\n",
       "      <td>Gary Larson</td>\n",
       "      <td>1993</td>\n",
       "      <td>Andrews McMeel Publishing</td>\n",
       "      <td>http://images.amazon.com/images/P/0836217241.0...</td>\n",
       "    </tr>\n",
       "    <tr>\n",
       "      <th>520</th>\n",
       "      <td>0399149821</td>\n",
       "      <td>31</td>\n",
       "      <td>4.806452</td>\n",
       "      <td>Dirty Work</td>\n",
       "      <td>Stuart Woods</td>\n",
       "      <td>2003</td>\n",
       "      <td>Putnam Publishing Group</td>\n",
       "      <td>http://images.amazon.com/images/P/0399149821.0...</td>\n",
       "    </tr>\n",
       "    <tr>\n",
       "      <th>521</th>\n",
       "      <td>0446692298</td>\n",
       "      <td>31</td>\n",
       "      <td>4.387097</td>\n",
       "      <td>Fat Girls and Lawn Chairs</td>\n",
       "      <td>Cheryl Peck</td>\n",
       "      <td>2004</td>\n",
       "      <td>Warner Books</td>\n",
       "      <td>http://images.amazon.com/images/P/0446692298.0...</td>\n",
       "    </tr>\n",
       "    <tr>\n",
       "      <th>522</th>\n",
       "      <td>8408043641</td>\n",
       "      <td>31</td>\n",
       "      <td>5.096774</td>\n",
       "      <td>La Sombra Del Viento/The Shadow Of The Wind</td>\n",
       "      <td>Carlos Ruiz Zafon</td>\n",
       "      <td>2003</td>\n",
       "      <td>Planeta Pub Corp</td>\n",
       "      <td>http://images.amazon.com/images/P/8408043641.0...</td>\n",
       "    </tr>\n",
       "    <tr>\n",
       "      <th>523</th>\n",
       "      <td>0380978407</td>\n",
       "      <td>31</td>\n",
       "      <td>5.225806</td>\n",
       "      <td>Lamb: The Gospel According to Biff, Christ's C...</td>\n",
       "      <td>Christopher Moore</td>\n",
       "      <td>2002</td>\n",
       "      <td>William Morrow &amp;amp; Company</td>\n",
       "      <td>http://images.amazon.com/images/P/0380978407.0...</td>\n",
       "    </tr>\n",
       "  </tbody>\n",
       "</table>\n",
       "<p>524 rows × 8 columns</p>\n",
       "</div>"
      ],
      "text/plain": [
       "           ISBN  num_ratings  avg_rating  \\\n",
       "0    0316666343         1295    4.468726   \n",
       "1    0385504209          883    4.652322   \n",
       "2    0312195516          723    4.334716   \n",
       "3    0142001740          615    4.219512   \n",
       "4    0446672211          585    4.105983   \n",
       "..          ...          ...         ...   \n",
       "519  0836217241           31    4.806452   \n",
       "520  0399149821           31    4.806452   \n",
       "521  0446692298           31    4.387097   \n",
       "522  8408043641           31    5.096774   \n",
       "523  0380978407           31    5.225806   \n",
       "\n",
       "                                                 title             author  \\\n",
       "0                            The Lovely Bones: A Novel       Alice Sebold   \n",
       "1                                    The Da Vinci Code          Dan Brown   \n",
       "2                  The Red Tent (Bestselling Backlist)      Anita Diamant   \n",
       "3                              The Secret Life of Bees      Sue Monk Kidd   \n",
       "4    Where the Heart Is (Oprah's Book Club (Paperba...       Billie Letts   \n",
       "..                                                 ...                ...   \n",
       "519                             The Far Side Gallery 4        Gary Larson   \n",
       "520                                         Dirty Work       Stuart Woods   \n",
       "521                          Fat Girls and Lawn Chairs        Cheryl Peck   \n",
       "522        La Sombra Del Viento/The Shadow Of The Wind  Carlos Ruiz Zafon   \n",
       "523  Lamb: The Gospel According to Biff, Christ's C...  Christopher Moore   \n",
       "\n",
       "     year                     publisher  \\\n",
       "0    2002                 Little, Brown   \n",
       "1    2003                     Doubleday   \n",
       "2    1998                   Picador USA   \n",
       "3    2003                 Penguin Books   \n",
       "4    1998                  Warner Books   \n",
       "..    ...                           ...   \n",
       "519  1993     Andrews McMeel Publishing   \n",
       "520  2003       Putnam Publishing Group   \n",
       "521  2004                  Warner Books   \n",
       "522  2003              Planeta Pub Corp   \n",
       "523  2002  William Morrow &amp; Company   \n",
       "\n",
       "                                           Image-URL-M  \n",
       "0    http://images.amazon.com/images/P/0316666343.0...  \n",
       "1    http://images.amazon.com/images/P/0385504209.0...  \n",
       "2    http://images.amazon.com/images/P/0312195516.0...  \n",
       "3    http://images.amazon.com/images/P/0142001740.0...  \n",
       "4    http://images.amazon.com/images/P/0446672211.0...  \n",
       "..                                                 ...  \n",
       "519  http://images.amazon.com/images/P/0836217241.0...  \n",
       "520  http://images.amazon.com/images/P/0399149821.0...  \n",
       "521  http://images.amazon.com/images/P/0446692298.0...  \n",
       "522  http://images.amazon.com/images/P/8408043641.0...  \n",
       "523  http://images.amazon.com/images/P/0380978407.0...  \n",
       "\n",
       "[524 rows x 8 columns]"
      ]
     },
     "execution_count": 3,
     "metadata": {},
     "output_type": "execute_result"
    }
   ],
   "source": [
    "popular_books = pd.read_csv('../artifacts/popular_books.csv')\n",
    "popular_books"
   ]
  },
  {
   "cell_type": "code",
   "execution_count": 4,
   "id": "bee3465f-0c9a-4b7d-8f04-8ddea124d614",
   "metadata": {},
   "outputs": [],
   "source": [
    "book_pivot = pd.read_csv('../artifacts/book_pivot.csv').set_index('title')"
   ]
  },
  {
   "cell_type": "code",
   "execution_count": 5,
   "id": "44d2a507-5163-455b-97d2-62e1c0624c73",
   "metadata": {},
   "outputs": [
    {
     "data": {
      "text/html": [
       "<div>\n",
       "<style scoped>\n",
       "    .dataframe tbody tr th:only-of-type {\n",
       "        vertical-align: middle;\n",
       "    }\n",
       "\n",
       "    .dataframe tbody tr th {\n",
       "        vertical-align: top;\n",
       "    }\n",
       "\n",
       "    .dataframe thead th {\n",
       "        text-align: right;\n",
       "    }\n",
       "</style>\n",
       "<table border=\"1\" class=\"dataframe\">\n",
       "  <thead>\n",
       "    <tr style=\"text-align: right;\">\n",
       "      <th></th>\n",
       "      <th>254</th>\n",
       "      <th>2276</th>\n",
       "      <th>2766</th>\n",
       "      <th>2977</th>\n",
       "      <th>3363</th>\n",
       "      <th>3757</th>\n",
       "      <th>4017</th>\n",
       "      <th>4385</th>\n",
       "      <th>6242</th>\n",
       "      <th>6251</th>\n",
       "      <th>...</th>\n",
       "      <th>274004</th>\n",
       "      <th>274061</th>\n",
       "      <th>274301</th>\n",
       "      <th>274308</th>\n",
       "      <th>274808</th>\n",
       "      <th>275970</th>\n",
       "      <th>277427</th>\n",
       "      <th>277478</th>\n",
       "      <th>277639</th>\n",
       "      <th>278418</th>\n",
       "    </tr>\n",
       "    <tr>\n",
       "      <th>title</th>\n",
       "      <th></th>\n",
       "      <th></th>\n",
       "      <th></th>\n",
       "      <th></th>\n",
       "      <th></th>\n",
       "      <th></th>\n",
       "      <th></th>\n",
       "      <th></th>\n",
       "      <th></th>\n",
       "      <th></th>\n",
       "      <th></th>\n",
       "      <th></th>\n",
       "      <th></th>\n",
       "      <th></th>\n",
       "      <th></th>\n",
       "      <th></th>\n",
       "      <th></th>\n",
       "      <th></th>\n",
       "      <th></th>\n",
       "      <th></th>\n",
       "      <th></th>\n",
       "    </tr>\n",
       "  </thead>\n",
       "  <tbody>\n",
       "    <tr>\n",
       "      <th>1984</th>\n",
       "      <td>9.0</td>\n",
       "      <td>0.0</td>\n",
       "      <td>0.0</td>\n",
       "      <td>0.0</td>\n",
       "      <td>0.0</td>\n",
       "      <td>0.0</td>\n",
       "      <td>0.0</td>\n",
       "      <td>0.0</td>\n",
       "      <td>0.0</td>\n",
       "      <td>0.0</td>\n",
       "      <td>...</td>\n",
       "      <td>0.0</td>\n",
       "      <td>0.0</td>\n",
       "      <td>0.0</td>\n",
       "      <td>0.0</td>\n",
       "      <td>0.0</td>\n",
       "      <td>0.0</td>\n",
       "      <td>0.0</td>\n",
       "      <td>0.0</td>\n",
       "      <td>0.0</td>\n",
       "      <td>0.0</td>\n",
       "    </tr>\n",
       "    <tr>\n",
       "      <th>1st to Die: A Novel</th>\n",
       "      <td>0.0</td>\n",
       "      <td>0.0</td>\n",
       "      <td>0.0</td>\n",
       "      <td>0.0</td>\n",
       "      <td>0.0</td>\n",
       "      <td>0.0</td>\n",
       "      <td>0.0</td>\n",
       "      <td>0.0</td>\n",
       "      <td>0.0</td>\n",
       "      <td>0.0</td>\n",
       "      <td>...</td>\n",
       "      <td>0.0</td>\n",
       "      <td>0.0</td>\n",
       "      <td>0.0</td>\n",
       "      <td>0.0</td>\n",
       "      <td>0.0</td>\n",
       "      <td>0.0</td>\n",
       "      <td>0.0</td>\n",
       "      <td>0.0</td>\n",
       "      <td>0.0</td>\n",
       "      <td>0.0</td>\n",
       "    </tr>\n",
       "    <tr>\n",
       "      <th>2nd Chance</th>\n",
       "      <td>0.0</td>\n",
       "      <td>10.0</td>\n",
       "      <td>0.0</td>\n",
       "      <td>0.0</td>\n",
       "      <td>0.0</td>\n",
       "      <td>0.0</td>\n",
       "      <td>0.0</td>\n",
       "      <td>0.0</td>\n",
       "      <td>0.0</td>\n",
       "      <td>0.0</td>\n",
       "      <td>...</td>\n",
       "      <td>0.0</td>\n",
       "      <td>0.0</td>\n",
       "      <td>0.0</td>\n",
       "      <td>0.0</td>\n",
       "      <td>0.0</td>\n",
       "      <td>0.0</td>\n",
       "      <td>0.0</td>\n",
       "      <td>0.0</td>\n",
       "      <td>0.0</td>\n",
       "      <td>0.0</td>\n",
       "    </tr>\n",
       "    <tr>\n",
       "      <th>4 Blondes</th>\n",
       "      <td>0.0</td>\n",
       "      <td>0.0</td>\n",
       "      <td>0.0</td>\n",
       "      <td>0.0</td>\n",
       "      <td>0.0</td>\n",
       "      <td>0.0</td>\n",
       "      <td>0.0</td>\n",
       "      <td>0.0</td>\n",
       "      <td>0.0</td>\n",
       "      <td>0.0</td>\n",
       "      <td>...</td>\n",
       "      <td>0.0</td>\n",
       "      <td>0.0</td>\n",
       "      <td>0.0</td>\n",
       "      <td>0.0</td>\n",
       "      <td>0.0</td>\n",
       "      <td>0.0</td>\n",
       "      <td>0.0</td>\n",
       "      <td>0.0</td>\n",
       "      <td>0.0</td>\n",
       "      <td>0.0</td>\n",
       "    </tr>\n",
       "    <tr>\n",
       "      <th>84 Charing Cross Road</th>\n",
       "      <td>0.0</td>\n",
       "      <td>0.0</td>\n",
       "      <td>0.0</td>\n",
       "      <td>0.0</td>\n",
       "      <td>0.0</td>\n",
       "      <td>0.0</td>\n",
       "      <td>0.0</td>\n",
       "      <td>0.0</td>\n",
       "      <td>0.0</td>\n",
       "      <td>0.0</td>\n",
       "      <td>...</td>\n",
       "      <td>0.0</td>\n",
       "      <td>0.0</td>\n",
       "      <td>0.0</td>\n",
       "      <td>0.0</td>\n",
       "      <td>0.0</td>\n",
       "      <td>10.0</td>\n",
       "      <td>0.0</td>\n",
       "      <td>0.0</td>\n",
       "      <td>0.0</td>\n",
       "      <td>0.0</td>\n",
       "    </tr>\n",
       "    <tr>\n",
       "      <th>...</th>\n",
       "      <td>...</td>\n",
       "      <td>...</td>\n",
       "      <td>...</td>\n",
       "      <td>...</td>\n",
       "      <td>...</td>\n",
       "      <td>...</td>\n",
       "      <td>...</td>\n",
       "      <td>...</td>\n",
       "      <td>...</td>\n",
       "      <td>...</td>\n",
       "      <td>...</td>\n",
       "      <td>...</td>\n",
       "      <td>...</td>\n",
       "      <td>...</td>\n",
       "      <td>...</td>\n",
       "      <td>...</td>\n",
       "      <td>...</td>\n",
       "      <td>...</td>\n",
       "      <td>...</td>\n",
       "      <td>...</td>\n",
       "      <td>...</td>\n",
       "    </tr>\n",
       "    <tr>\n",
       "      <th>Wuthering Heights</th>\n",
       "      <td>0.0</td>\n",
       "      <td>0.0</td>\n",
       "      <td>0.0</td>\n",
       "      <td>0.0</td>\n",
       "      <td>0.0</td>\n",
       "      <td>0.0</td>\n",
       "      <td>0.0</td>\n",
       "      <td>0.0</td>\n",
       "      <td>0.0</td>\n",
       "      <td>0.0</td>\n",
       "      <td>...</td>\n",
       "      <td>0.0</td>\n",
       "      <td>0.0</td>\n",
       "      <td>0.0</td>\n",
       "      <td>0.0</td>\n",
       "      <td>0.0</td>\n",
       "      <td>0.0</td>\n",
       "      <td>0.0</td>\n",
       "      <td>0.0</td>\n",
       "      <td>0.0</td>\n",
       "      <td>0.0</td>\n",
       "    </tr>\n",
       "    <tr>\n",
       "      <th>Year of Wonders</th>\n",
       "      <td>0.0</td>\n",
       "      <td>0.0</td>\n",
       "      <td>0.0</td>\n",
       "      <td>7.0</td>\n",
       "      <td>0.0</td>\n",
       "      <td>0.0</td>\n",
       "      <td>0.0</td>\n",
       "      <td>0.0</td>\n",
       "      <td>7.0</td>\n",
       "      <td>0.0</td>\n",
       "      <td>...</td>\n",
       "      <td>0.0</td>\n",
       "      <td>0.0</td>\n",
       "      <td>0.0</td>\n",
       "      <td>0.0</td>\n",
       "      <td>0.0</td>\n",
       "      <td>0.0</td>\n",
       "      <td>0.0</td>\n",
       "      <td>0.0</td>\n",
       "      <td>0.0</td>\n",
       "      <td>0.0</td>\n",
       "    </tr>\n",
       "    <tr>\n",
       "      <th>You Belong To Me</th>\n",
       "      <td>0.0</td>\n",
       "      <td>0.0</td>\n",
       "      <td>0.0</td>\n",
       "      <td>0.0</td>\n",
       "      <td>0.0</td>\n",
       "      <td>0.0</td>\n",
       "      <td>0.0</td>\n",
       "      <td>0.0</td>\n",
       "      <td>0.0</td>\n",
       "      <td>0.0</td>\n",
       "      <td>...</td>\n",
       "      <td>0.0</td>\n",
       "      <td>0.0</td>\n",
       "      <td>0.0</td>\n",
       "      <td>0.0</td>\n",
       "      <td>0.0</td>\n",
       "      <td>0.0</td>\n",
       "      <td>0.0</td>\n",
       "      <td>0.0</td>\n",
       "      <td>0.0</td>\n",
       "      <td>0.0</td>\n",
       "    </tr>\n",
       "    <tr>\n",
       "      <th>Zen and the Art of Motorcycle Maintenance: An Inquiry into Values</th>\n",
       "      <td>0.0</td>\n",
       "      <td>0.0</td>\n",
       "      <td>0.0</td>\n",
       "      <td>0.0</td>\n",
       "      <td>0.0</td>\n",
       "      <td>0.0</td>\n",
       "      <td>0.0</td>\n",
       "      <td>0.0</td>\n",
       "      <td>0.0</td>\n",
       "      <td>0.0</td>\n",
       "      <td>...</td>\n",
       "      <td>0.0</td>\n",
       "      <td>0.0</td>\n",
       "      <td>0.0</td>\n",
       "      <td>0.0</td>\n",
       "      <td>0.0</td>\n",
       "      <td>0.0</td>\n",
       "      <td>0.0</td>\n",
       "      <td>0.0</td>\n",
       "      <td>0.0</td>\n",
       "      <td>0.0</td>\n",
       "    </tr>\n",
       "    <tr>\n",
       "      <th>Zoya</th>\n",
       "      <td>0.0</td>\n",
       "      <td>0.0</td>\n",
       "      <td>0.0</td>\n",
       "      <td>0.0</td>\n",
       "      <td>0.0</td>\n",
       "      <td>0.0</td>\n",
       "      <td>0.0</td>\n",
       "      <td>0.0</td>\n",
       "      <td>0.0</td>\n",
       "      <td>0.0</td>\n",
       "      <td>...</td>\n",
       "      <td>0.0</td>\n",
       "      <td>0.0</td>\n",
       "      <td>0.0</td>\n",
       "      <td>0.0</td>\n",
       "      <td>0.0</td>\n",
       "      <td>0.0</td>\n",
       "      <td>0.0</td>\n",
       "      <td>0.0</td>\n",
       "      <td>0.0</td>\n",
       "      <td>0.0</td>\n",
       "    </tr>\n",
       "  </tbody>\n",
       "</table>\n",
       "<p>742 rows × 888 columns</p>\n",
       "</div>"
      ],
      "text/plain": [
       "                                                    254  2276  2766  2977  \\\n",
       "title                                                                       \n",
       "1984                                                9.0   0.0   0.0   0.0   \n",
       "1st to Die: A Novel                                 0.0   0.0   0.0   0.0   \n",
       "2nd Chance                                          0.0  10.0   0.0   0.0   \n",
       "4 Blondes                                           0.0   0.0   0.0   0.0   \n",
       "84 Charing Cross Road                               0.0   0.0   0.0   0.0   \n",
       "...                                                 ...   ...   ...   ...   \n",
       "Wuthering Heights                                   0.0   0.0   0.0   0.0   \n",
       "Year of Wonders                                     0.0   0.0   0.0   7.0   \n",
       "You Belong To Me                                    0.0   0.0   0.0   0.0   \n",
       "Zen and the Art of Motorcycle Maintenance: An I...  0.0   0.0   0.0   0.0   \n",
       "Zoya                                                0.0   0.0   0.0   0.0   \n",
       "\n",
       "                                                    3363  3757  4017  4385  \\\n",
       "title                                                                        \n",
       "1984                                                 0.0   0.0   0.0   0.0   \n",
       "1st to Die: A Novel                                  0.0   0.0   0.0   0.0   \n",
       "2nd Chance                                           0.0   0.0   0.0   0.0   \n",
       "4 Blondes                                            0.0   0.0   0.0   0.0   \n",
       "84 Charing Cross Road                                0.0   0.0   0.0   0.0   \n",
       "...                                                  ...   ...   ...   ...   \n",
       "Wuthering Heights                                    0.0   0.0   0.0   0.0   \n",
       "Year of Wonders                                      0.0   0.0   0.0   0.0   \n",
       "You Belong To Me                                     0.0   0.0   0.0   0.0   \n",
       "Zen and the Art of Motorcycle Maintenance: An I...   0.0   0.0   0.0   0.0   \n",
       "Zoya                                                 0.0   0.0   0.0   0.0   \n",
       "\n",
       "                                                    6242  6251  ...  274004  \\\n",
       "title                                                           ...           \n",
       "1984                                                 0.0   0.0  ...     0.0   \n",
       "1st to Die: A Novel                                  0.0   0.0  ...     0.0   \n",
       "2nd Chance                                           0.0   0.0  ...     0.0   \n",
       "4 Blondes                                            0.0   0.0  ...     0.0   \n",
       "84 Charing Cross Road                                0.0   0.0  ...     0.0   \n",
       "...                                                  ...   ...  ...     ...   \n",
       "Wuthering Heights                                    0.0   0.0  ...     0.0   \n",
       "Year of Wonders                                      7.0   0.0  ...     0.0   \n",
       "You Belong To Me                                     0.0   0.0  ...     0.0   \n",
       "Zen and the Art of Motorcycle Maintenance: An I...   0.0   0.0  ...     0.0   \n",
       "Zoya                                                 0.0   0.0  ...     0.0   \n",
       "\n",
       "                                                    274061  274301  274308  \\\n",
       "title                                                                        \n",
       "1984                                                   0.0     0.0     0.0   \n",
       "1st to Die: A Novel                                    0.0     0.0     0.0   \n",
       "2nd Chance                                             0.0     0.0     0.0   \n",
       "4 Blondes                                              0.0     0.0     0.0   \n",
       "84 Charing Cross Road                                  0.0     0.0     0.0   \n",
       "...                                                    ...     ...     ...   \n",
       "Wuthering Heights                                      0.0     0.0     0.0   \n",
       "Year of Wonders                                        0.0     0.0     0.0   \n",
       "You Belong To Me                                       0.0     0.0     0.0   \n",
       "Zen and the Art of Motorcycle Maintenance: An I...     0.0     0.0     0.0   \n",
       "Zoya                                                   0.0     0.0     0.0   \n",
       "\n",
       "                                                    274808  275970  277427  \\\n",
       "title                                                                        \n",
       "1984                                                   0.0     0.0     0.0   \n",
       "1st to Die: A Novel                                    0.0     0.0     0.0   \n",
       "2nd Chance                                             0.0     0.0     0.0   \n",
       "4 Blondes                                              0.0     0.0     0.0   \n",
       "84 Charing Cross Road                                  0.0    10.0     0.0   \n",
       "...                                                    ...     ...     ...   \n",
       "Wuthering Heights                                      0.0     0.0     0.0   \n",
       "Year of Wonders                                        0.0     0.0     0.0   \n",
       "You Belong To Me                                       0.0     0.0     0.0   \n",
       "Zen and the Art of Motorcycle Maintenance: An I...     0.0     0.0     0.0   \n",
       "Zoya                                                   0.0     0.0     0.0   \n",
       "\n",
       "                                                    277478  277639  278418  \n",
       "title                                                                       \n",
       "1984                                                   0.0     0.0     0.0  \n",
       "1st to Die: A Novel                                    0.0     0.0     0.0  \n",
       "2nd Chance                                             0.0     0.0     0.0  \n",
       "4 Blondes                                              0.0     0.0     0.0  \n",
       "84 Charing Cross Road                                  0.0     0.0     0.0  \n",
       "...                                                    ...     ...     ...  \n",
       "Wuthering Heights                                      0.0     0.0     0.0  \n",
       "Year of Wonders                                        0.0     0.0     0.0  \n",
       "You Belong To Me                                       0.0     0.0     0.0  \n",
       "Zen and the Art of Motorcycle Maintenance: An I...     0.0     0.0     0.0  \n",
       "Zoya                                                   0.0     0.0     0.0  \n",
       "\n",
       "[742 rows x 888 columns]"
      ]
     },
     "execution_count": 5,
     "metadata": {},
     "output_type": "execute_result"
    }
   ],
   "source": [
    "book_pivot"
   ]
  },
  {
   "cell_type": "code",
   "execution_count": null,
   "id": "9f6930fe-7f73-4315-878f-b1c6f6d58073",
   "metadata": {},
   "outputs": [],
   "source": []
  },
  {
   "cell_type": "code",
   "execution_count": 6,
   "id": "298d8e08-b2bf-427c-a686-499cc5e94414",
   "metadata": {},
   "outputs": [],
   "source": [
    "from sklearn.metrics.pairwise import cosine_similarity"
   ]
  },
  {
   "cell_type": "code",
   "execution_count": 7,
   "id": "7881b6a3-2d6d-4cdb-8895-aad0e82f8505",
   "metadata": {},
   "outputs": [],
   "source": [
    "similarity = cosine_similarity(book_pivot)"
   ]
  },
  {
   "cell_type": "code",
   "execution_count": 8,
   "id": "b7c518c4-abd5-438f-8636-6bcf80bc011f",
   "metadata": {},
   "outputs": [
    {
     "data": {
      "text/plain": [
       "(742, 742)"
      ]
     },
     "execution_count": 8,
     "metadata": {},
     "output_type": "execute_result"
    }
   ],
   "source": [
    "similarity.shape"
   ]
  },
  {
   "cell_type": "code",
   "execution_count": 9,
   "id": "a46e7d3f-f185-4564-b25f-0a1affdf0cf6",
   "metadata": {},
   "outputs": [],
   "source": [
    "#similarity[2]"
   ]
  },
  {
   "cell_type": "markdown",
   "id": "e254d792-8cef-44f5-8a41-1872c34a329e",
   "metadata": {},
   "source": [
    "### It's time to build `recommend` function, which will recommend books"
   ]
  },
  {
   "cell_type": "code",
   "execution_count": 10,
   "id": "480dab97-a146-45db-92d8-fbc187c2eb86",
   "metadata": {},
   "outputs": [
    {
     "data": {
      "text/plain": [
       "Index(['1984', '1st to Die: A Novel', '2nd Chance', '4 Blondes',\n",
       "       '84 Charing Cross Road', 'A Bend in the Road', 'A Case of Need',\n",
       "       'A Child Called It: One Child's Courage to Survive', 'A Civil Action',\n",
       "       'A Cry In The Night',\n",
       "       ...\n",
       "       'Winter Moon', 'Winter Solstice', 'Wish You Well', 'Without Remorse',\n",
       "       'Wizard and Glass (The Dark Tower, Book 4)', 'Wuthering Heights',\n",
       "       'Year of Wonders', 'You Belong To Me',\n",
       "       'Zen and the Art of Motorcycle Maintenance: An Inquiry into Values',\n",
       "       'Zoya'],\n",
       "      dtype='object', name='title', length=742)"
      ]
     },
     "execution_count": 10,
     "metadata": {},
     "output_type": "execute_result"
    }
   ],
   "source": [
    "book_pivot.index"
   ]
  },
  {
   "cell_type": "code",
   "execution_count": 11,
   "id": "858e3d0d-b0df-4e96-a60b-601927573b6f",
   "metadata": {},
   "outputs": [
    {
     "data": {
      "text/plain": [
       "'Animal Farm'"
      ]
     },
     "execution_count": 11,
     "metadata": {},
     "output_type": "execute_result"
    }
   ],
   "source": [
    "book_pivot.index[54]"
   ]
  },
  {
   "cell_type": "code",
   "execution_count": 12,
   "id": "3928afa1-1539-450b-b30b-22ab05d6b52e",
   "metadata": {},
   "outputs": [
    {
     "data": {
      "text/plain": [
       "2"
      ]
     },
     "execution_count": 12,
     "metadata": {},
     "output_type": "execute_result"
    }
   ],
   "source": [
    "np.where(book_pivot.index == '2nd Chance')[0][0]"
   ]
  },
  {
   "cell_type": "code",
   "execution_count": 13,
   "id": "d0fa6597-f685-49be-8965-260aaa990cec",
   "metadata": {},
   "outputs": [],
   "source": [
    "index = np.where(book_pivot.index == '2nd Chance')[0][0]"
   ]
  },
  {
   "cell_type": "code",
   "execution_count": 14,
   "id": "df1418c4-eab1-47f0-a094-12ca957bffd3",
   "metadata": {},
   "outputs": [],
   "source": [
    "#similarity[index]"
   ]
  },
  {
   "cell_type": "code",
   "execution_count": 15,
   "id": "8fb42984-aa68-49ba-890a-35e947ef7832",
   "metadata": {},
   "outputs": [],
   "source": [
    "#sorted(list(enumerate(similarity[2])),reverse=True,key=lambda x:x[1])"
   ]
  },
  {
   "cell_type": "code",
   "execution_count": 16,
   "id": "c6ce98c3-e4ec-45b8-8193-03ae1ea15ebb",
   "metadata": {},
   "outputs": [
    {
     "data": {
      "text/plain": [
       "[(2, 1.0),\n",
       " (213, 0.3811934648841825),\n",
       " (610, 0.3596251032111192),\n",
       " (702, 0.31627666338536753),\n",
       " (512, 0.2834711971709437),\n",
       " (608, 0.2821991402776645)]"
      ]
     },
     "execution_count": 16,
     "metadata": {},
     "output_type": "execute_result"
    }
   ],
   "source": [
    "sorted(list(enumerate(similarity[index])),reverse=True,key=lambda x:x[1])[:6]"
   ]
  },
  {
   "cell_type": "code",
   "execution_count": 17,
   "id": "f2a5f70c-c4df-40a4-94be-002cc605acbd",
   "metadata": {},
   "outputs": [
    {
     "data": {
      "text/plain": [
       "[(213, 0.3811934648841825),\n",
       " (610, 0.3596251032111192),\n",
       " (702, 0.31627666338536753),\n",
       " (512, 0.2834711971709437),\n",
       " (608, 0.2821991402776645)]"
      ]
     },
     "execution_count": 17,
     "metadata": {},
     "output_type": "execute_result"
    }
   ],
   "source": [
    "top_related_books = sorted(list(enumerate(similarity[index])),reverse=True,key=lambda x:x[1])[1:6]\n",
    "top_related_books"
   ]
  },
  {
   "cell_type": "code",
   "execution_count": 18,
   "id": "02cb83af-1ac5-4d60-868c-4467c1cb6a57",
   "metadata": {},
   "outputs": [
    {
     "data": {
      "text/plain": [
       "(213, 0.3811934648841825)"
      ]
     },
     "execution_count": 18,
     "metadata": {},
     "output_type": "execute_result"
    }
   ],
   "source": [
    "top_related_books[0]"
   ]
  },
  {
   "cell_type": "code",
   "execution_count": 19,
   "id": "d4d88f04-b957-4ae5-ba92-09bf2d1a9d1e",
   "metadata": {},
   "outputs": [
    {
     "name": "stdout",
     "output_type": "stream",
     "text": [
      "213\n",
      "610\n",
      "702\n",
      "512\n",
      "608\n"
     ]
    }
   ],
   "source": [
    "for i in top_related_books:\n",
    "    print(i[0])"
   ]
  },
  {
   "cell_type": "code",
   "execution_count": 20,
   "id": "819c23ea-c93c-4160-8c17-2c40b77689c1",
   "metadata": {},
   "outputs": [
    {
     "name": "stdout",
     "output_type": "stream",
     "text": [
      "Four Blind Mice\n",
      "The Next Accident\n",
      "Violets Are Blue\n",
      "The Blue Nowhere : A Novel\n",
      "The Murder Book\n"
     ]
    }
   ],
   "source": [
    "for i in top_related_books:\n",
    "    print(book_pivot.index[i[0]])"
   ]
  },
  {
   "cell_type": "code",
   "execution_count": null,
   "id": "f7ac662f-e76d-401f-b480-a6a168e4055f",
   "metadata": {},
   "outputs": [],
   "source": []
  },
  {
   "cell_type": "code",
   "execution_count": 21,
   "id": "161b6a0a-57f8-44cc-ba2f-7988b80ef680",
   "metadata": {},
   "outputs": [],
   "source": [
    "def recommend(book_name):\n",
    "    index = np.where(book_pivot.index == book_name)[0][0]\n",
    "    top_related_books = sorted(list(enumerate(similarity[index])),reverse=True,key=lambda x:x[1])[1:6]\n",
    "    recommended_books_index = [i[0] for i in top_related_books]\n",
    "    recommended_books = [book_pivot.index[id] for id in recommended_books_index]\n",
    "   \n",
    "    return recommended_books\n",
    "    \n",
    "    "
   ]
  },
  {
   "cell_type": "code",
   "execution_count": 22,
   "id": "090c28d1-259c-42f8-8aca-2b7969f08778",
   "metadata": {},
   "outputs": [
    {
     "data": {
      "text/plain": [
       "['Bastard Out of Carolina',\n",
       " \"The Kitchen God's Wife\",\n",
       " '1984',\n",
       " 'The Red Tent (Bestselling Backlist)',\n",
       " 'Confessions of an Ugly Stepsister : A Novel']"
      ]
     },
     "execution_count": 22,
     "metadata": {},
     "output_type": "execute_result"
    }
   ],
   "source": [
    "recommend(\"The Handmaid's Tale\")\n"
   ]
  },
  {
   "cell_type": "code",
   "execution_count": 23,
   "id": "86696886-8286-4b3e-8719-6083d957f225",
   "metadata": {},
   "outputs": [
    {
     "data": {
      "text/plain": [
       "[\"The Lost Boy: A Foster Child's Search for the Love of a Family\",\n",
       " 'A Man Named Dave: A Story of Triumph and Forgiveness',\n",
       " 'Range of Motion',\n",
       " 'On the Street Where You Live',\n",
       " 'Homecoming']"
      ]
     },
     "execution_count": 23,
     "metadata": {},
     "output_type": "execute_result"
    }
   ],
   "source": [
    "recommend(\"A Child Called It: One Child's Courage to Survive\")"
   ]
  },
  {
   "cell_type": "code",
   "execution_count": 24,
   "id": "834fb26d-3e43-43bb-b1c3-c8b25049545d",
   "metadata": {},
   "outputs": [
    {
     "data": {
      "text/plain": [
       "['The Two Towers (The Lord of the Rings, Part 2)',\n",
       " 'The Fellowship of the Ring (The Lord of the Rings, Part 1)',\n",
       " 'Where the Red Fern Grows',\n",
       " 'One for the Money (A Stephanie Plum Novel)',\n",
       " 'The Return of the King (The Lord of the Rings, Part 3)']"
      ]
     },
     "execution_count": 24,
     "metadata": {},
     "output_type": "execute_result"
    }
   ],
   "source": [
    "recommend(\"The Hobbit : The Enchanting Prelude to The Lord of the Rings\")"
   ]
  },
  {
   "cell_type": "code",
   "execution_count": 25,
   "id": "f84eb02e-0474-4777-8cf2-547345d5adb2",
   "metadata": {},
   "outputs": [
    {
     "data": {
      "text/plain": [
       "['Misery',\n",
       " 'The Hobbit : The Enchanting Prelude to The Lord of the Rings',\n",
       " 'Under the Tuscan Sun',\n",
       " 'The Giver (21st Century Reference)',\n",
       " 'The Bourne Identity']"
      ]
     },
     "execution_count": 25,
     "metadata": {},
     "output_type": "execute_result"
    }
   ],
   "source": [
    "recommend(\"Where the Red Fern Grows\")"
   ]
  },
  {
   "cell_type": "code",
   "execution_count": 26,
   "id": "c2e70eba-cb8d-479e-bdd7-a8de2e190ac1",
   "metadata": {},
   "outputs": [
    {
     "data": {
      "text/plain": [
       "['The Two Towers (The Lord of the Rings, Part 2)',\n",
       " 'The Return of the King (The Lord of the Rings, Part 3)',\n",
       " 'Harry Potter and the Prisoner of Azkaban (Book 3)',\n",
       " \"The Hitchhiker's Guide to the Galaxy\",\n",
       " 'Harry Potter and the Goblet of Fire (Book 4)']"
      ]
     },
     "execution_count": 26,
     "metadata": {},
     "output_type": "execute_result"
    }
   ],
   "source": [
    "recommend(\"The Fellowship of the Ring (The Lord of the Rings, Part 1)\")"
   ]
  },
  {
   "cell_type": "code",
   "execution_count": 27,
   "id": "6f84f9c1-a37b-4192-a09e-64035120833b",
   "metadata": {},
   "outputs": [
    {
     "data": {
      "text/plain": [
       "['Harry Potter and the Prisoner of Azkaban (Book 3)',\n",
       " 'Harry Potter and the Chamber of Secrets (Book 2)',\n",
       " 'Harry Potter and the Order of the Phoenix (Book 5)',\n",
       " \"Harry Potter and the Sorcerer's Stone (Book 1)\",\n",
       " \"Harry Potter and the Sorcerer's Stone (Harry Potter (Paperback))\"]"
      ]
     },
     "execution_count": 27,
     "metadata": {},
     "output_type": "execute_result"
    }
   ],
   "source": [
    "recommend('Harry Potter and the Goblet of Fire (Book 4)')"
   ]
  },
  {
   "cell_type": "code",
   "execution_count": null,
   "id": "2f6baea2-a23d-4536-9f23-22d39b629382",
   "metadata": {},
   "outputs": [],
   "source": []
  },
  {
   "cell_type": "markdown",
   "id": "3da2f98a-4fc1-4229-9df2-da008a70eeec",
   "metadata": {},
   "source": [
    "### But, if we want to show the image also, the should modify the `recommend()` function"
   ]
  },
  {
   "cell_type": "code",
   "execution_count": 28,
   "id": "db5f07ce-9443-43d9-a08c-58e3865ef257",
   "metadata": {},
   "outputs": [],
   "source": [
    "def recommend(book_name):\n",
    "    index = np.where(book_pivot.index == book_name)[0][0]\n",
    "    top_related_books = sorted(list(enumerate(similarity[index])),reverse=True,key=lambda x:x[1])[1:6]\n",
    "    recommended_books_index = [i[0] for i in top_related_books]\n",
    "    recommended_books = [book_pivot.index[id] for id in recommended_books_index]\n",
    "   \n",
    "    return recommended_books\n",
    "    \n",
    "    "
   ]
  },
  {
   "cell_type": "code",
   "execution_count": 29,
   "id": "64a52190-4a08-4a2e-9360-4358e71b8326",
   "metadata": {},
   "outputs": [
    {
     "data": {
      "text/plain": [
       "0"
      ]
     },
     "execution_count": 29,
     "metadata": {},
     "output_type": "execute_result"
    }
   ],
   "source": [
    "index = np.where(book_pivot.index == '1984')[0][0]\n",
    "index"
   ]
  },
  {
   "cell_type": "code",
   "execution_count": 30,
   "id": "93aa7e0a-650e-4e6c-b290-f52faa90bc77",
   "metadata": {},
   "outputs": [
    {
     "data": {
      "text/plain": [
       "[54, 576, 527, 321, 669]"
      ]
     },
     "execution_count": 30,
     "metadata": {},
     "output_type": "execute_result"
    }
   ],
   "source": [
    "top_related_books = sorted(list(enumerate(similarity[index])),reverse=True,key=lambda x:x[1])[1:6]\n",
    "recommended_books_index = [i[0] for i in top_related_books]\n",
    "recommended_books_index"
   ]
  },
  {
   "cell_type": "code",
   "execution_count": 31,
   "id": "9226d31d-2362-4868-ac8b-91d05936f310",
   "metadata": {},
   "outputs": [
    {
     "data": {
      "text/plain": [
       "['Animal Farm',\n",
       " \"The Handmaid's Tale\",\n",
       " 'The Catcher in the Rye',\n",
       " 'Lord of the Flies',\n",
       " 'The Vampire Lestat (Vampire Chronicles, Book II)']"
      ]
     },
     "execution_count": 31,
     "metadata": {},
     "output_type": "execute_result"
    }
   ],
   "source": [
    "recommended_books = [book_pivot.index[id] for id in recommended_books_index]\n",
    "recommended_books"
   ]
  },
  {
   "cell_type": "code",
   "execution_count": 56,
   "id": "7c29e39b-8f75-4dac-a689-57549e1fe7f8",
   "metadata": {},
   "outputs": [
    {
     "data": {
      "text/html": [
       "<div>\n",
       "<style scoped>\n",
       "    .dataframe tbody tr th:only-of-type {\n",
       "        vertical-align: middle;\n",
       "    }\n",
       "\n",
       "    .dataframe tbody tr th {\n",
       "        vertical-align: top;\n",
       "    }\n",
       "\n",
       "    .dataframe thead th {\n",
       "        text-align: right;\n",
       "    }\n",
       "</style>\n",
       "<table border=\"1\" class=\"dataframe\">\n",
       "  <thead>\n",
       "    <tr style=\"text-align: right;\">\n",
       "      <th></th>\n",
       "      <th>title</th>\n",
       "      <th>author</th>\n",
       "      <th>year</th>\n",
       "      <th>Image-URL-M</th>\n",
       "    </tr>\n",
       "  </thead>\n",
       "  <tbody>\n",
       "    <tr>\n",
       "      <th>0</th>\n",
       "      <td>Politically Correct Bedtime Stories: Modern Ta...</td>\n",
       "      <td>James Finn Garner</td>\n",
       "      <td>1994</td>\n",
       "      <td>http://images.amazon.com/images/P/002542730X.0...</td>\n",
       "    </tr>\n",
       "    <tr>\n",
       "      <th>1</th>\n",
       "      <td>Politically Correct Bedtime Stories: Modern Ta...</td>\n",
       "      <td>James Finn Garner</td>\n",
       "      <td>1994</td>\n",
       "      <td>http://images.amazon.com/images/P/002542730X.0...</td>\n",
       "    </tr>\n",
       "    <tr>\n",
       "      <th>2</th>\n",
       "      <td>Politically Correct Bedtime Stories: Modern Ta...</td>\n",
       "      <td>James Finn Garner</td>\n",
       "      <td>1994</td>\n",
       "      <td>http://images.amazon.com/images/P/002542730X.0...</td>\n",
       "    </tr>\n",
       "    <tr>\n",
       "      <th>3</th>\n",
       "      <td>Politically Correct Bedtime Stories: Modern Ta...</td>\n",
       "      <td>James Finn Garner</td>\n",
       "      <td>1994</td>\n",
       "      <td>http://images.amazon.com/images/P/002542730X.0...</td>\n",
       "    </tr>\n",
       "    <tr>\n",
       "      <th>4</th>\n",
       "      <td>Politically Correct Bedtime Stories: Modern Ta...</td>\n",
       "      <td>James Finn Garner</td>\n",
       "      <td>1994</td>\n",
       "      <td>http://images.amazon.com/images/P/002542730X.0...</td>\n",
       "    </tr>\n",
       "    <tr>\n",
       "      <th>...</th>\n",
       "      <td>...</td>\n",
       "      <td>...</td>\n",
       "      <td>...</td>\n",
       "      <td>...</td>\n",
       "    </tr>\n",
       "    <tr>\n",
       "      <th>59845</th>\n",
       "      <td>And Then You Die</td>\n",
       "      <td>Iris Johansen</td>\n",
       "      <td>1998</td>\n",
       "      <td>http://images.amazon.com/images/P/0553579983.0...</td>\n",
       "    </tr>\n",
       "    <tr>\n",
       "      <th>59846</th>\n",
       "      <td>And Then You Die</td>\n",
       "      <td>Iris Johansen</td>\n",
       "      <td>1998</td>\n",
       "      <td>http://images.amazon.com/images/P/0553579983.0...</td>\n",
       "    </tr>\n",
       "    <tr>\n",
       "      <th>59847</th>\n",
       "      <td>And Then You Die</td>\n",
       "      <td>Iris Johansen</td>\n",
       "      <td>1998</td>\n",
       "      <td>http://images.amazon.com/images/P/0553579983.0...</td>\n",
       "    </tr>\n",
       "    <tr>\n",
       "      <th>59848</th>\n",
       "      <td>And Then You Die</td>\n",
       "      <td>Iris Johansen</td>\n",
       "      <td>1998</td>\n",
       "      <td>http://images.amazon.com/images/P/0553579983.0...</td>\n",
       "    </tr>\n",
       "    <tr>\n",
       "      <th>59849</th>\n",
       "      <td>And Then You Die</td>\n",
       "      <td>Iris Johansen</td>\n",
       "      <td>1998</td>\n",
       "      <td>http://images.amazon.com/images/P/0553579983.0...</td>\n",
       "    </tr>\n",
       "  </tbody>\n",
       "</table>\n",
       "<p>59850 rows × 4 columns</p>\n",
       "</div>"
      ],
      "text/plain": [
       "                                                   title             author  \\\n",
       "0      Politically Correct Bedtime Stories: Modern Ta...  James Finn Garner   \n",
       "1      Politically Correct Bedtime Stories: Modern Ta...  James Finn Garner   \n",
       "2      Politically Correct Bedtime Stories: Modern Ta...  James Finn Garner   \n",
       "3      Politically Correct Bedtime Stories: Modern Ta...  James Finn Garner   \n",
       "4      Politically Correct Bedtime Stories: Modern Ta...  James Finn Garner   \n",
       "...                                                  ...                ...   \n",
       "59845                                   And Then You Die      Iris Johansen   \n",
       "59846                                   And Then You Die      Iris Johansen   \n",
       "59847                                   And Then You Die      Iris Johansen   \n",
       "59848                                   And Then You Die      Iris Johansen   \n",
       "59849                                   And Then You Die      Iris Johansen   \n",
       "\n",
       "       year                                        Image-URL-M  \n",
       "0      1994  http://images.amazon.com/images/P/002542730X.0...  \n",
       "1      1994  http://images.amazon.com/images/P/002542730X.0...  \n",
       "2      1994  http://images.amazon.com/images/P/002542730X.0...  \n",
       "3      1994  http://images.amazon.com/images/P/002542730X.0...  \n",
       "4      1994  http://images.amazon.com/images/P/002542730X.0...  \n",
       "...     ...                                                ...  \n",
       "59845  1998  http://images.amazon.com/images/P/0553579983.0...  \n",
       "59846  1998  http://images.amazon.com/images/P/0553579983.0...  \n",
       "59847  1998  http://images.amazon.com/images/P/0553579983.0...  \n",
       "59848  1998  http://images.amazon.com/images/P/0553579983.0...  \n",
       "59849  1998  http://images.amazon.com/images/P/0553579983.0...  \n",
       "\n",
       "[59850 rows x 4 columns]"
      ]
     },
     "execution_count": 56,
     "metadata": {},
     "output_type": "execute_result"
    }
   ],
   "source": [
    "final_ratings = final_ratings[['title', 'author', 'year', 'Image-URL-M']]\n",
    "final_ratings"
   ]
  },
  {
   "cell_type": "code",
   "execution_count": 57,
   "id": "a4a9dfc2-0493-4491-98d6-bb358d3a327b",
   "metadata": {},
   "outputs": [
    {
     "data": {
      "text/plain": [
       "13910"
      ]
     },
     "execution_count": 57,
     "metadata": {},
     "output_type": "execute_result"
    }
   ],
   "source": [
    "idx = np.where(final_ratings.title == \"The Vampire Lestat (Vampire Chronicles, Book II)\")[0][0]\n",
    "idx"
   ]
  },
  {
   "cell_type": "code",
   "execution_count": null,
   "id": "e829a6d5-8ecf-4af2-a4ec-97eafdfaf237",
   "metadata": {},
   "outputs": [],
   "source": []
  },
  {
   "cell_type": "code",
   "execution_count": 58,
   "id": "686a9bd6-7079-4d9c-9486-bdc94505cb98",
   "metadata": {},
   "outputs": [
    {
     "data": {
      "text/plain": [
       "title           The Vampire Lestat (Vampire Chronicles, Book II)\n",
       "author                                                 ANNE RICE\n",
       "year                                                        1986\n",
       "Image-URL-M    http://images.amazon.com/images/P/0345313860.0...\n",
       "Name: 13910, dtype: object"
      ]
     },
     "execution_count": 58,
     "metadata": {},
     "output_type": "execute_result"
    }
   ],
   "source": [
    "final_ratings.iloc[idx]"
   ]
  },
  {
   "cell_type": "code",
   "execution_count": 60,
   "id": "214ec979-9793-4e3f-8541-971988a2d38f",
   "metadata": {},
   "outputs": [
    {
     "data": {
      "text/plain": [
       "title           The Vampire Lestat (Vampire Chronicles, Book II)\n",
       "author                                                 ANNE RICE\n",
       "year                                                        1986\n",
       "Image-URL-M    http://images.amazon.com/images/P/0345313860.0...\n",
       "Name: 13910, dtype: object"
      ]
     },
     "execution_count": 60,
     "metadata": {},
     "output_type": "execute_result"
    }
   ],
   "source": [
    "final_ratings.iloc[idx]"
   ]
  },
  {
   "cell_type": "code",
   "execution_count": 61,
   "id": "b18d074b-6389-40b3-a87d-dc983ec2612f",
   "metadata": {},
   "outputs": [
    {
     "data": {
      "text/plain": [
       "['The Vampire Lestat (Vampire Chronicles, Book II)',\n",
       " 'ANNE RICE',\n",
       " 1986,\n",
       " 'http://images.amazon.com/images/P/0345313860.01.MZZZZZZZ.jpg']"
      ]
     },
     "execution_count": 61,
     "metadata": {},
     "output_type": "execute_result"
    }
   ],
   "source": [
    "final_ratings.iloc[idx].tolist()"
   ]
  },
  {
   "cell_type": "code",
   "execution_count": 62,
   "id": "6bffe7c8-644f-4216-83fa-5f9d7ab03412",
   "metadata": {},
   "outputs": [],
   "source": [
    "def recommend(book_name):\n",
    "    \"\"\"\n",
    "    Recommends top related books based on a given book.\n",
    "\n",
    "    Args:\n",
    "        book_name (str): The name of the book.\n",
    "\n",
    "    Returns:\n",
    "        list: A list of recommended books, each represented as a list containing the title, author, year, and image URL.\n",
    "\n",
    "    \"\"\"\n",
    "    index = np.where(book_pivot.index == book_name)[0][0]\n",
    "    top_related_books = sorted(list(enumerate(similarity[index])), reverse=True, key=lambda x: x[1])[1:6]\n",
    "    recommended_books_index = [i[0] for i in top_related_books]\n",
    "    recommended_books = [book_pivot.index[id] for id in recommended_books_index]\n",
    "    \n",
    "    books = []\n",
    "    for book in recommended_books:\n",
    "        idx = np.where(final_ratings.title == book)[0][0]\n",
    "        books.append(final_ratings.iloc[idx].tolist())\n",
    "   \n",
    "    return books\n"
   ]
  },
  {
   "cell_type": "code",
   "execution_count": 63,
   "id": "bc53419a-1da9-44bb-8d7a-6933e778afb2",
   "metadata": {},
   "outputs": [
    {
     "data": {
      "text/plain": [
       "[['The Tale of the Body Thief (Vampire Chronicles (Paperback))',\n",
       "  'Anne Rice',\n",
       "  1993,\n",
       "  'http://images.amazon.com/images/P/034538475X.01.MZZZZZZZ.jpg'],\n",
       " ['The Queen of the Damned (Vampire Chronicles (Paperback))',\n",
       "  'Anne Rice',\n",
       "  1993,\n",
       "  'http://images.amazon.com/images/P/0345351525.01.MZZZZZZZ.jpg'],\n",
       " ['Interview with the Vampire',\n",
       "  'Anne Rice',\n",
       "  1993,\n",
       "  'http://images.amazon.com/images/P/0345337662.01.MZZZZZZZ.jpg'],\n",
       " ['The Witching Hour (Lives of the Mayfair Witches)',\n",
       "  'ANNE RICE',\n",
       "  1993,\n",
       "  'http://images.amazon.com/images/P/0345384466.01.MZZZZZZZ.jpg'],\n",
       " ['Wizard and Glass (The Dark Tower, Book 4)',\n",
       "  'Stephen King',\n",
       "  1997,\n",
       "  'http://images.amazon.com/images/P/0452279178.01.MZZZZZZZ.jpg']]"
      ]
     },
     "execution_count": 63,
     "metadata": {},
     "output_type": "execute_result"
    }
   ],
   "source": [
    "recommend(\"The Vampire Lestat (Vampire Chronicles, Book II)\")"
   ]
  },
  {
   "cell_type": "code",
   "execution_count": 64,
   "id": "a8dba1cd-3c78-4309-9806-a3a1b60cbec8",
   "metadata": {},
   "outputs": [
    {
     "data": {
      "text/plain": [
       "[['Animal Farm',\n",
       "  'George Orwell',\n",
       "  2004,\n",
       "  'http://images.amazon.com/images/P/0451526341.01.MZZZZZZZ.jpg'],\n",
       " [\"The Handmaid's Tale\",\n",
       "  'Margaret Atwood',\n",
       "  1989,\n",
       "  'http://images.amazon.com/images/P/0449212602.01.MZZZZZZZ.jpg'],\n",
       " ['The Catcher in the Rye',\n",
       "  'J.D. Salinger',\n",
       "  1991,\n",
       "  'http://images.amazon.com/images/P/0316769487.01.MZZZZZZZ.jpg'],\n",
       " ['Lord of the Flies',\n",
       "  'William Gerald Golding',\n",
       "  1959,\n",
       "  'http://images.amazon.com/images/P/0399501487.01.MZZZZZZZ.jpg'],\n",
       " ['The Vampire Lestat (Vampire Chronicles, Book II)',\n",
       "  'ANNE RICE',\n",
       "  1986,\n",
       "  'http://images.amazon.com/images/P/0345313860.01.MZZZZZZZ.jpg']]"
      ]
     },
     "execution_count": 64,
     "metadata": {},
     "output_type": "execute_result"
    }
   ],
   "source": [
    "recommended_books = recommend(\"1984\")\n",
    "recommended_books"
   ]
  },
  {
   "cell_type": "code",
   "execution_count": 65,
   "id": "cedf46e2-5254-4bb7-af9f-8f6332464362",
   "metadata": {},
   "outputs": [
    {
     "data": {
      "text/plain": [
       "[[\"The Handmaid's Tale\",\n",
       "  'Margaret Atwood',\n",
       "  1989,\n",
       "  'http://images.amazon.com/images/P/0449212602.01.MZZZZZZZ.jpg'],\n",
       " ['The Catcher in the Rye',\n",
       "  'J.D. Salinger',\n",
       "  1991,\n",
       "  'http://images.amazon.com/images/P/0316769487.01.MZZZZZZZ.jpg'],\n",
       " ['Lord of the Flies',\n",
       "  'William Gerald Golding',\n",
       "  1959,\n",
       "  'http://images.amazon.com/images/P/0399501487.01.MZZZZZZZ.jpg'],\n",
       " ['The Vampire Lestat (Vampire Chronicles, Book II)',\n",
       "  'ANNE RICE',\n",
       "  1986,\n",
       "  'http://images.amazon.com/images/P/0345313860.01.MZZZZZZZ.jpg']]"
      ]
     },
     "execution_count": 65,
     "metadata": {},
     "output_type": "execute_result"
    }
   ],
   "source": [
    "recommended_books[1:]"
   ]
  },
  {
   "cell_type": "code",
   "execution_count": 66,
   "id": "51bed799-eb3a-457b-96ac-d96a522b0cac",
   "metadata": {},
   "outputs": [
    {
     "name": "stdout",
     "output_type": "stream",
     "text": [
      "Animal Farm\n",
      "The Handmaid's Tale\n",
      "The Catcher in the Rye\n",
      "Lord of the Flies\n",
      "The Vampire Lestat (Vampire Chronicles, Book II)\n"
     ]
    }
   ],
   "source": [
    "for item in recommended_books:\n",
    "    print(item[0])"
   ]
  },
  {
   "cell_type": "code",
   "execution_count": null,
   "id": "c19d394e-f88d-4b52-8762-0803b0c30f54",
   "metadata": {},
   "outputs": [],
   "source": []
  },
  {
   "cell_type": "markdown",
   "id": "a004e1de-0b8a-4557-84bf-1c8b62d52725",
   "metadata": {},
   "source": [
    "### popular_books"
   ]
  },
  {
   "cell_type": "code",
   "execution_count": 67,
   "id": "0c2c0159-8712-4e73-a419-4d19854dc9a1",
   "metadata": {},
   "outputs": [
    {
     "data": {
      "text/html": [
       "<div>\n",
       "<style scoped>\n",
       "    .dataframe tbody tr th:only-of-type {\n",
       "        vertical-align: middle;\n",
       "    }\n",
       "\n",
       "    .dataframe tbody tr th {\n",
       "        vertical-align: top;\n",
       "    }\n",
       "\n",
       "    .dataframe thead th {\n",
       "        text-align: right;\n",
       "    }\n",
       "</style>\n",
       "<table border=\"1\" class=\"dataframe\">\n",
       "  <thead>\n",
       "    <tr style=\"text-align: right;\">\n",
       "      <th></th>\n",
       "      <th>ISBN</th>\n",
       "      <th>num_ratings</th>\n",
       "      <th>avg_rating</th>\n",
       "      <th>title</th>\n",
       "      <th>author</th>\n",
       "      <th>year</th>\n",
       "      <th>publisher</th>\n",
       "      <th>Image-URL-M</th>\n",
       "    </tr>\n",
       "  </thead>\n",
       "  <tbody>\n",
       "    <tr>\n",
       "      <th>0</th>\n",
       "      <td>0316666343</td>\n",
       "      <td>1295</td>\n",
       "      <td>4.468726</td>\n",
       "      <td>The Lovely Bones: A Novel</td>\n",
       "      <td>Alice Sebold</td>\n",
       "      <td>2002</td>\n",
       "      <td>Little, Brown</td>\n",
       "      <td>http://images.amazon.com/images/P/0316666343.0...</td>\n",
       "    </tr>\n",
       "    <tr>\n",
       "      <th>1</th>\n",
       "      <td>0385504209</td>\n",
       "      <td>883</td>\n",
       "      <td>4.652322</td>\n",
       "      <td>The Da Vinci Code</td>\n",
       "      <td>Dan Brown</td>\n",
       "      <td>2003</td>\n",
       "      <td>Doubleday</td>\n",
       "      <td>http://images.amazon.com/images/P/0385504209.0...</td>\n",
       "    </tr>\n",
       "    <tr>\n",
       "      <th>2</th>\n",
       "      <td>0312195516</td>\n",
       "      <td>723</td>\n",
       "      <td>4.334716</td>\n",
       "      <td>The Red Tent (Bestselling Backlist)</td>\n",
       "      <td>Anita Diamant</td>\n",
       "      <td>1998</td>\n",
       "      <td>Picador USA</td>\n",
       "      <td>http://images.amazon.com/images/P/0312195516.0...</td>\n",
       "    </tr>\n",
       "    <tr>\n",
       "      <th>3</th>\n",
       "      <td>0142001740</td>\n",
       "      <td>615</td>\n",
       "      <td>4.219512</td>\n",
       "      <td>The Secret Life of Bees</td>\n",
       "      <td>Sue Monk Kidd</td>\n",
       "      <td>2003</td>\n",
       "      <td>Penguin Books</td>\n",
       "      <td>http://images.amazon.com/images/P/0142001740.0...</td>\n",
       "    </tr>\n",
       "    <tr>\n",
       "      <th>4</th>\n",
       "      <td>0446672211</td>\n",
       "      <td>585</td>\n",
       "      <td>4.105983</td>\n",
       "      <td>Where the Heart Is (Oprah's Book Club (Paperba...</td>\n",
       "      <td>Billie Letts</td>\n",
       "      <td>1998</td>\n",
       "      <td>Warner Books</td>\n",
       "      <td>http://images.amazon.com/images/P/0446672211.0...</td>\n",
       "    </tr>\n",
       "    <tr>\n",
       "      <th>...</th>\n",
       "      <td>...</td>\n",
       "      <td>...</td>\n",
       "      <td>...</td>\n",
       "      <td>...</td>\n",
       "      <td>...</td>\n",
       "      <td>...</td>\n",
       "      <td>...</td>\n",
       "      <td>...</td>\n",
       "    </tr>\n",
       "    <tr>\n",
       "      <th>519</th>\n",
       "      <td>0836217241</td>\n",
       "      <td>31</td>\n",
       "      <td>4.806452</td>\n",
       "      <td>The Far Side Gallery 4</td>\n",
       "      <td>Gary Larson</td>\n",
       "      <td>1993</td>\n",
       "      <td>Andrews McMeel Publishing</td>\n",
       "      <td>http://images.amazon.com/images/P/0836217241.0...</td>\n",
       "    </tr>\n",
       "    <tr>\n",
       "      <th>520</th>\n",
       "      <td>0399149821</td>\n",
       "      <td>31</td>\n",
       "      <td>4.806452</td>\n",
       "      <td>Dirty Work</td>\n",
       "      <td>Stuart Woods</td>\n",
       "      <td>2003</td>\n",
       "      <td>Putnam Publishing Group</td>\n",
       "      <td>http://images.amazon.com/images/P/0399149821.0...</td>\n",
       "    </tr>\n",
       "    <tr>\n",
       "      <th>521</th>\n",
       "      <td>0446692298</td>\n",
       "      <td>31</td>\n",
       "      <td>4.387097</td>\n",
       "      <td>Fat Girls and Lawn Chairs</td>\n",
       "      <td>Cheryl Peck</td>\n",
       "      <td>2004</td>\n",
       "      <td>Warner Books</td>\n",
       "      <td>http://images.amazon.com/images/P/0446692298.0...</td>\n",
       "    </tr>\n",
       "    <tr>\n",
       "      <th>522</th>\n",
       "      <td>8408043641</td>\n",
       "      <td>31</td>\n",
       "      <td>5.096774</td>\n",
       "      <td>La Sombra Del Viento/The Shadow Of The Wind</td>\n",
       "      <td>Carlos Ruiz Zafon</td>\n",
       "      <td>2003</td>\n",
       "      <td>Planeta Pub Corp</td>\n",
       "      <td>http://images.amazon.com/images/P/8408043641.0...</td>\n",
       "    </tr>\n",
       "    <tr>\n",
       "      <th>523</th>\n",
       "      <td>0380978407</td>\n",
       "      <td>31</td>\n",
       "      <td>5.225806</td>\n",
       "      <td>Lamb: The Gospel According to Biff, Christ's C...</td>\n",
       "      <td>Christopher Moore</td>\n",
       "      <td>2002</td>\n",
       "      <td>William Morrow &amp;amp; Company</td>\n",
       "      <td>http://images.amazon.com/images/P/0380978407.0...</td>\n",
       "    </tr>\n",
       "  </tbody>\n",
       "</table>\n",
       "<p>524 rows × 8 columns</p>\n",
       "</div>"
      ],
      "text/plain": [
       "           ISBN  num_ratings  avg_rating  \\\n",
       "0    0316666343         1295    4.468726   \n",
       "1    0385504209          883    4.652322   \n",
       "2    0312195516          723    4.334716   \n",
       "3    0142001740          615    4.219512   \n",
       "4    0446672211          585    4.105983   \n",
       "..          ...          ...         ...   \n",
       "519  0836217241           31    4.806452   \n",
       "520  0399149821           31    4.806452   \n",
       "521  0446692298           31    4.387097   \n",
       "522  8408043641           31    5.096774   \n",
       "523  0380978407           31    5.225806   \n",
       "\n",
       "                                                 title             author  \\\n",
       "0                            The Lovely Bones: A Novel       Alice Sebold   \n",
       "1                                    The Da Vinci Code          Dan Brown   \n",
       "2                  The Red Tent (Bestselling Backlist)      Anita Diamant   \n",
       "3                              The Secret Life of Bees      Sue Monk Kidd   \n",
       "4    Where the Heart Is (Oprah's Book Club (Paperba...       Billie Letts   \n",
       "..                                                 ...                ...   \n",
       "519                             The Far Side Gallery 4        Gary Larson   \n",
       "520                                         Dirty Work       Stuart Woods   \n",
       "521                          Fat Girls and Lawn Chairs        Cheryl Peck   \n",
       "522        La Sombra Del Viento/The Shadow Of The Wind  Carlos Ruiz Zafon   \n",
       "523  Lamb: The Gospel According to Biff, Christ's C...  Christopher Moore   \n",
       "\n",
       "     year                     publisher  \\\n",
       "0    2002                 Little, Brown   \n",
       "1    2003                     Doubleday   \n",
       "2    1998                   Picador USA   \n",
       "3    2003                 Penguin Books   \n",
       "4    1998                  Warner Books   \n",
       "..    ...                           ...   \n",
       "519  1993     Andrews McMeel Publishing   \n",
       "520  2003       Putnam Publishing Group   \n",
       "521  2004                  Warner Books   \n",
       "522  2003              Planeta Pub Corp   \n",
       "523  2002  William Morrow &amp; Company   \n",
       "\n",
       "                                           Image-URL-M  \n",
       "0    http://images.amazon.com/images/P/0316666343.0...  \n",
       "1    http://images.amazon.com/images/P/0385504209.0...  \n",
       "2    http://images.amazon.com/images/P/0312195516.0...  \n",
       "3    http://images.amazon.com/images/P/0142001740.0...  \n",
       "4    http://images.amazon.com/images/P/0446672211.0...  \n",
       "..                                                 ...  \n",
       "519  http://images.amazon.com/images/P/0836217241.0...  \n",
       "520  http://images.amazon.com/images/P/0399149821.0...  \n",
       "521  http://images.amazon.com/images/P/0446692298.0...  \n",
       "522  http://images.amazon.com/images/P/8408043641.0...  \n",
       "523  http://images.amazon.com/images/P/0380978407.0...  \n",
       "\n",
       "[524 rows x 8 columns]"
      ]
     },
     "execution_count": 67,
     "metadata": {},
     "output_type": "execute_result"
    }
   ],
   "source": [
    "popular_books"
   ]
  },
  {
   "cell_type": "code",
   "execution_count": 69,
   "id": "2cec78ca-1145-446f-ab15-639876e0e326",
   "metadata": {},
   "outputs": [
    {
     "data": {
      "text/html": [
       "<div>\n",
       "<style scoped>\n",
       "    .dataframe tbody tr th:only-of-type {\n",
       "        vertical-align: middle;\n",
       "    }\n",
       "\n",
       "    .dataframe tbody tr th {\n",
       "        vertical-align: top;\n",
       "    }\n",
       "\n",
       "    .dataframe thead th {\n",
       "        text-align: right;\n",
       "    }\n",
       "</style>\n",
       "<table border=\"1\" class=\"dataframe\">\n",
       "  <thead>\n",
       "    <tr style=\"text-align: right;\">\n",
       "      <th></th>\n",
       "      <th>title</th>\n",
       "      <th>author</th>\n",
       "      <th>year</th>\n",
       "      <th>Image-URL-M</th>\n",
       "      <th>num_ratings</th>\n",
       "      <th>avg_rating</th>\n",
       "    </tr>\n",
       "  </thead>\n",
       "  <tbody>\n",
       "    <tr>\n",
       "      <th>0</th>\n",
       "      <td>The Lovely Bones: A Novel</td>\n",
       "      <td>Alice Sebold</td>\n",
       "      <td>2002</td>\n",
       "      <td>http://images.amazon.com/images/P/0316666343.0...</td>\n",
       "      <td>1295</td>\n",
       "      <td>4.468726</td>\n",
       "    </tr>\n",
       "    <tr>\n",
       "      <th>1</th>\n",
       "      <td>The Da Vinci Code</td>\n",
       "      <td>Dan Brown</td>\n",
       "      <td>2003</td>\n",
       "      <td>http://images.amazon.com/images/P/0385504209.0...</td>\n",
       "      <td>883</td>\n",
       "      <td>4.652322</td>\n",
       "    </tr>\n",
       "    <tr>\n",
       "      <th>2</th>\n",
       "      <td>The Red Tent (Bestselling Backlist)</td>\n",
       "      <td>Anita Diamant</td>\n",
       "      <td>1998</td>\n",
       "      <td>http://images.amazon.com/images/P/0312195516.0...</td>\n",
       "      <td>723</td>\n",
       "      <td>4.334716</td>\n",
       "    </tr>\n",
       "    <tr>\n",
       "      <th>3</th>\n",
       "      <td>The Secret Life of Bees</td>\n",
       "      <td>Sue Monk Kidd</td>\n",
       "      <td>2003</td>\n",
       "      <td>http://images.amazon.com/images/P/0142001740.0...</td>\n",
       "      <td>615</td>\n",
       "      <td>4.219512</td>\n",
       "    </tr>\n",
       "    <tr>\n",
       "      <th>4</th>\n",
       "      <td>Where the Heart Is (Oprah's Book Club (Paperba...</td>\n",
       "      <td>Billie Letts</td>\n",
       "      <td>1998</td>\n",
       "      <td>http://images.amazon.com/images/P/0446672211.0...</td>\n",
       "      <td>585</td>\n",
       "      <td>4.105983</td>\n",
       "    </tr>\n",
       "    <tr>\n",
       "      <th>...</th>\n",
       "      <td>...</td>\n",
       "      <td>...</td>\n",
       "      <td>...</td>\n",
       "      <td>...</td>\n",
       "      <td>...</td>\n",
       "      <td>...</td>\n",
       "    </tr>\n",
       "    <tr>\n",
       "      <th>519</th>\n",
       "      <td>The Far Side Gallery 4</td>\n",
       "      <td>Gary Larson</td>\n",
       "      <td>1993</td>\n",
       "      <td>http://images.amazon.com/images/P/0836217241.0...</td>\n",
       "      <td>31</td>\n",
       "      <td>4.806452</td>\n",
       "    </tr>\n",
       "    <tr>\n",
       "      <th>520</th>\n",
       "      <td>Dirty Work</td>\n",
       "      <td>Stuart Woods</td>\n",
       "      <td>2003</td>\n",
       "      <td>http://images.amazon.com/images/P/0399149821.0...</td>\n",
       "      <td>31</td>\n",
       "      <td>4.806452</td>\n",
       "    </tr>\n",
       "    <tr>\n",
       "      <th>521</th>\n",
       "      <td>Fat Girls and Lawn Chairs</td>\n",
       "      <td>Cheryl Peck</td>\n",
       "      <td>2004</td>\n",
       "      <td>http://images.amazon.com/images/P/0446692298.0...</td>\n",
       "      <td>31</td>\n",
       "      <td>4.387097</td>\n",
       "    </tr>\n",
       "    <tr>\n",
       "      <th>522</th>\n",
       "      <td>La Sombra Del Viento/The Shadow Of The Wind</td>\n",
       "      <td>Carlos Ruiz Zafon</td>\n",
       "      <td>2003</td>\n",
       "      <td>http://images.amazon.com/images/P/8408043641.0...</td>\n",
       "      <td>31</td>\n",
       "      <td>5.096774</td>\n",
       "    </tr>\n",
       "    <tr>\n",
       "      <th>523</th>\n",
       "      <td>Lamb: The Gospel According to Biff, Christ's C...</td>\n",
       "      <td>Christopher Moore</td>\n",
       "      <td>2002</td>\n",
       "      <td>http://images.amazon.com/images/P/0380978407.0...</td>\n",
       "      <td>31</td>\n",
       "      <td>5.225806</td>\n",
       "    </tr>\n",
       "  </tbody>\n",
       "</table>\n",
       "<p>524 rows × 6 columns</p>\n",
       "</div>"
      ],
      "text/plain": [
       "                                                 title             author  \\\n",
       "0                            The Lovely Bones: A Novel       Alice Sebold   \n",
       "1                                    The Da Vinci Code          Dan Brown   \n",
       "2                  The Red Tent (Bestselling Backlist)      Anita Diamant   \n",
       "3                              The Secret Life of Bees      Sue Monk Kidd   \n",
       "4    Where the Heart Is (Oprah's Book Club (Paperba...       Billie Letts   \n",
       "..                                                 ...                ...   \n",
       "519                             The Far Side Gallery 4        Gary Larson   \n",
       "520                                         Dirty Work       Stuart Woods   \n",
       "521                          Fat Girls and Lawn Chairs        Cheryl Peck   \n",
       "522        La Sombra Del Viento/The Shadow Of The Wind  Carlos Ruiz Zafon   \n",
       "523  Lamb: The Gospel According to Biff, Christ's C...  Christopher Moore   \n",
       "\n",
       "     year                                        Image-URL-M  num_ratings  \\\n",
       "0    2002  http://images.amazon.com/images/P/0316666343.0...         1295   \n",
       "1    2003  http://images.amazon.com/images/P/0385504209.0...          883   \n",
       "2    1998  http://images.amazon.com/images/P/0312195516.0...          723   \n",
       "3    2003  http://images.amazon.com/images/P/0142001740.0...          615   \n",
       "4    1998  http://images.amazon.com/images/P/0446672211.0...          585   \n",
       "..    ...                                                ...          ...   \n",
       "519  1993  http://images.amazon.com/images/P/0836217241.0...           31   \n",
       "520  2003  http://images.amazon.com/images/P/0399149821.0...           31   \n",
       "521  2004  http://images.amazon.com/images/P/0446692298.0...           31   \n",
       "522  2003  http://images.amazon.com/images/P/8408043641.0...           31   \n",
       "523  2002  http://images.amazon.com/images/P/0380978407.0...           31   \n",
       "\n",
       "     avg_rating  \n",
       "0      4.468726  \n",
       "1      4.652322  \n",
       "2      4.334716  \n",
       "3      4.219512  \n",
       "4      4.105983  \n",
       "..          ...  \n",
       "519    4.806452  \n",
       "520    4.806452  \n",
       "521    4.387097  \n",
       "522    5.096774  \n",
       "523    5.225806  \n",
       "\n",
       "[524 rows x 6 columns]"
      ]
     },
     "execution_count": 69,
     "metadata": {},
     "output_type": "execute_result"
    }
   ],
   "source": [
    "popular_books = popular_books[['title', 'author', 'year', 'Image-URL-M','num_ratings','avg_rating']]\n",
    "popular_books"
   ]
  },
  {
   "cell_type": "code",
   "execution_count": 71,
   "id": "a7de6c71-8ef1-40e9-b9fe-cda40e380f0e",
   "metadata": {},
   "outputs": [
    {
     "data": {
      "text/plain": [
       "['The Da Vinci Code',\n",
       " 'Dan Brown',\n",
       " 2003,\n",
       " 'http://images.amazon.com/images/P/0385504209.01.MZZZZZZZ.jpg',\n",
       " 883,\n",
       " 4.652321630804077]"
      ]
     },
     "execution_count": 71,
     "metadata": {},
     "output_type": "execute_result"
    }
   ],
   "source": [
    "popular_books.iloc[1].tolist()"
   ]
  },
  {
   "cell_type": "code",
   "execution_count": 80,
   "id": "a394d13d-427d-41a4-8dde-f880d7dba4b6",
   "metadata": {},
   "outputs": [],
   "source": [
    "popular_books_list = [popular_books.iloc[i].tolist() for i in popular_books.index]\n",
    "#popular_books_list"
   ]
  },
  {
   "cell_type": "code",
   "execution_count": null,
   "id": "7a2d4057-d5c6-40fa-9b2e-778bd1f2de4c",
   "metadata": {},
   "outputs": [],
   "source": []
  },
  {
   "cell_type": "code",
   "execution_count": null,
   "id": "2c04aced-7698-402e-a5ed-9aaf0e5b587f",
   "metadata": {},
   "outputs": [],
   "source": []
  },
  {
   "cell_type": "markdown",
   "id": "10c7dae2-2953-46d2-9332-242623373bd9",
   "metadata": {},
   "source": [
    "### Pickle Loading"
   ]
  },
  {
   "cell_type": "code",
   "execution_count": 43,
   "id": "d8351700-fe34-4021-9477-583e43050614",
   "metadata": {},
   "outputs": [
    {
     "data": {
      "text/plain": [
       "'/home/kousik/ABC_OTHERS/campusx/book-recommender-system/my_book_reco_with_cosine_similarity/notebooks'"
      ]
     },
     "execution_count": 43,
     "metadata": {},
     "output_type": "execute_result"
    }
   ],
   "source": [
    "import os\n",
    "os.getcwd()"
   ]
  },
  {
   "cell_type": "code",
   "execution_count": 44,
   "id": "ed1a0da2-3a99-4cee-baaf-26af5ca5f058",
   "metadata": {},
   "outputs": [
    {
     "data": {
      "text/plain": [
       "'../artifacts'"
      ]
     },
     "execution_count": 44,
     "metadata": {},
     "output_type": "execute_result"
    }
   ],
   "source": [
    "pickle_path = os.path.join(\"../artifacts\")\n",
    "pickle_path"
   ]
  },
  {
   "cell_type": "code",
   "execution_count": 45,
   "id": "e2240b54-f4fe-4e03-be49-c52593ea79e3",
   "metadata": {},
   "outputs": [],
   "source": [
    "os.makedirs(pickle_path,exist_ok=True)"
   ]
  },
  {
   "cell_type": "code",
   "execution_count": 46,
   "id": "b3b0b894-b4ac-482b-bc8d-c05a37a5eda1",
   "metadata": {},
   "outputs": [
    {
     "data": {
      "text/plain": [
       "'../artifacts/similarity.pkl'"
      ]
     },
     "execution_count": 46,
     "metadata": {},
     "output_type": "execute_result"
    }
   ],
   "source": [
    "similarity_obj_path = os.path.join(pickle_path,'similarity.pkl')\n",
    "similarity_obj_path"
   ]
  },
  {
   "cell_type": "code",
   "execution_count": 47,
   "id": "af679c47-62dd-4955-954f-bcc100cdc5b0",
   "metadata": {},
   "outputs": [],
   "source": [
    "import pickle\n",
    "\n",
    "pickle.dump(similarity,open(similarity_obj_path,'wb'))"
   ]
  },
  {
   "cell_type": "code",
   "execution_count": null,
   "id": "76e79a32-f17f-4f5d-b3b9-6ff85d40291c",
   "metadata": {},
   "outputs": [],
   "source": []
  }
 ],
 "metadata": {
  "kernelspec": {
   "display_name": "Python 3 (ipykernel)",
   "language": "python",
   "name": "python3"
  },
  "language_info": {
   "codemirror_mode": {
    "name": "ipython",
    "version": 3
   },
   "file_extension": ".py",
   "mimetype": "text/x-python",
   "name": "python",
   "nbconvert_exporter": "python",
   "pygments_lexer": "ipython3",
   "version": "3.9.16"
  }
 },
 "nbformat": 4,
 "nbformat_minor": 5
}
